{
 "cells": [
  {
   "cell_type": "code",
   "execution_count": 1,
   "metadata": {},
   "outputs": [
    {
     "name": "stdout",
     "output_type": "stream",
     "text": [
      "Requirement already satisfied: asn1tools in c:\\users\\oriventi\\appdata\\local\\programs\\python\\python311\\lib\\site-packages (0.166.0)\n",
      "Requirement already satisfied: pyparsing>=3.0.6 in c:\\users\\oriventi\\appdata\\local\\programs\\python\\python311\\lib\\site-packages (from asn1tools) (3.1.2)\n",
      "Requirement already satisfied: bitstruct in c:\\users\\oriventi\\appdata\\local\\programs\\python\\python311\\lib\\site-packages (from asn1tools) (8.19.0)\n",
      "Note: you may need to restart the kernel to use updated packages.\n"
     ]
    },
    {
     "name": "stderr",
     "output_type": "stream",
     "text": [
      "\n",
      "[notice] A new release of pip is available: 23.3.1 -> 24.0\n",
      "[notice] To update, run: python.exe -m pip install --upgrade pip\n"
     ]
    }
   ],
   "source": [
    "%pip install asn1tools\n",
    "import asn1tools"
   ]
  },
  {
   "cell_type": "code",
   "execution_count": 4,
   "metadata": {},
   "outputs": [],
   "source": [
    "foo = asn1tools.compile_files('test.asn1')"
   ]
  }
 ],
 "metadata": {
  "kernelspec": {
   "display_name": "Python 3",
   "language": "python",
   "name": "python3"
  },
  "language_info": {
   "codemirror_mode": {
    "name": "ipython",
    "version": 3
   },
   "file_extension": ".py",
   "mimetype": "text/x-python",
   "name": "python",
   "nbconvert_exporter": "python",
   "pygments_lexer": "ipython3",
   "version": "3.11.7"
  }
 },
 "nbformat": 4,
 "nbformat_minor": 2
}
